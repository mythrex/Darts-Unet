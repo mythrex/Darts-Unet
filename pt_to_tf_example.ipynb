{
 "cells": [
  {
   "cell_type": "code",
   "execution_count": 1,
   "metadata": {
    "scrolled": true
   },
   "outputs": [
    {
     "name": "stderr",
     "output_type": "stream",
     "text": [
      "/home/mythrex/anaconda3/envs/bgh/lib/python3.6/site-packages/requests/__init__.py:91: RequestsDependencyWarning: urllib3 (1.25.3) or chardet (3.0.4) doesn't match a supported version!\n",
      "  RequestsDependencyWarning)\n"
     ]
    }
   ],
   "source": [
    "import tensorflow as tf"
   ]
  },
  {
   "cell_type": "code",
   "execution_count": 8,
   "metadata": {},
   "outputs": [],
   "source": [
    "class Obj_test():\n",
    "    def __init__(self):\n",
    "        self.x1 = tf.constant([1,2,3,4])\n",
    "        self.x2 = tf.constant([5,6,7,8])\n",
    "    \n",
    "    def forward(self):\n",
    "        return tf.multiply(self.x1, self.x2)"
   ]
  },
  {
   "cell_type": "code",
   "execution_count": 11,
   "metadata": {},
   "outputs": [
    {
     "name": "stdout",
     "output_type": "stream",
     "text": [
      "[ 5 12 21 32]\n"
     ]
    }
   ],
   "source": [
    "a = Obj_test()\n",
    "with tf.Session() as sess:\n",
    "    out = sess.run(a.forward())\n",
    "    print(out)"
   ]
  },
  {
   "cell_type": "code",
   "execution_count": 9,
   "metadata": {},
   "outputs": [],
   "source": [
    "class Obj_test2():\n",
    "    def __init__(self):\n",
    "        self.x1 = tf.constant([1,2,3,4])\n",
    "        self.x2 = Obj_test()\n",
    "    \n",
    "    def forward(self):\n",
    "        return tf.multiply(self.x1, self.x2.forward())"
   ]
  },
  {
   "cell_type": "code",
   "execution_count": 10,
   "metadata": {},
   "outputs": [
    {
     "name": "stdout",
     "output_type": "stream",
     "text": [
      "[  5  24  63 128]\n"
     ]
    }
   ],
   "source": [
    "a = Obj_test2()\n",
    "with tf.Session() as sess:\n",
    "    out = sess.run(a.forward())\n",
    "    print(out)"
   ]
  },
  {
   "cell_type": "code",
   "execution_count": null,
   "metadata": {},
   "outputs": [],
   "source": []
  }
 ],
 "metadata": {
  "kernelspec": {
   "display_name": "Python (bgh)",
   "language": "python",
   "name": "bgh"
  },
  "language_info": {
   "codemirror_mode": {
    "name": "ipython",
    "version": 3
   },
   "file_extension": ".py",
   "mimetype": "text/x-python",
   "name": "python",
   "nbconvert_exporter": "python",
   "pygments_lexer": "ipython3",
   "version": "3.6.7"
  }
 },
 "nbformat": 4,
 "nbformat_minor": 2
}
