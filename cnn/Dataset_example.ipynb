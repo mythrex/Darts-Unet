{
 "cells": [
  {
   "cell_type": "code",
   "execution_count": 13,
   "metadata": {},
   "outputs": [],
   "source": [
    "import numpy as np\n",
    "import tensorflow as tf"
   ]
  },
  {
   "cell_type": "code",
   "execution_count": 2,
   "metadata": {},
   "outputs": [],
   "source": [
    "tf.enable_eager_execution()"
   ]
  },
  {
   "cell_type": "code",
   "execution_count": 3,
   "metadata": {},
   "outputs": [
    {
     "name": "stderr",
     "output_type": "stream",
     "text": [
      "WARNING: Logging before flag parsing goes to stderr.\n",
      "W0916 19:22:17.669464 140020094977856 deprecation.py:323] From <ipython-input-3-c4702b424037>:2: DatasetV1.output_types (from tensorflow.python.data.ops.dataset_ops) is deprecated and will be removed in a future version.\n",
      "Instructions for updating:\n",
      "Use `tf.compat.v1.data.get_output_types(dataset)`.\n",
      "W0916 19:22:17.670613 140020094977856 deprecation.py:323] From <ipython-input-3-c4702b424037>:3: DatasetV1.output_shapes (from tensorflow.python.data.ops.dataset_ops) is deprecated and will be removed in a future version.\n",
      "Instructions for updating:\n",
      "Use `tf.compat.v1.data.get_output_shapes(dataset)`.\n"
     ]
    },
    {
     "name": "stdout",
     "output_type": "stream",
     "text": [
      "<dtype: 'float32'>\n",
      "(10,)\n"
     ]
    }
   ],
   "source": [
    "dataset1 = tf.data.Dataset.from_tensor_slices(tf.random_uniform([4, 10]))\n",
    "print(dataset1.output_types)  # ==> \"tf.float32\"\n",
    "print(dataset1.output_shapes)  # ==> \"(10,)\""
   ]
  },
  {
   "cell_type": "code",
   "execution_count": 7,
   "metadata": {},
   "outputs": [
    {
     "name": "stdout",
     "output_type": "stream",
     "text": [
      "(tf.float32, tf.int32)\n",
      "(TensorShape([]), TensorShape([Dimension(100)]))\n"
     ]
    }
   ],
   "source": [
    "dataset2 = tf.data.Dataset.from_tensor_slices(\n",
    "   (tf.random_uniform([4]),\n",
    "    tf.random_uniform([4, 100], maxval=100, dtype=tf.int32)))\n",
    "print(dataset2.output_types)  # ==> \"(tf.float32, tf.int32)\"\n",
    "print(dataset2.output_shapes)  # ==> \"((), (100,))\""
   ]
  },
  {
   "cell_type": "code",
   "execution_count": 10,
   "metadata": {},
   "outputs": [
    {
     "name": "stdout",
     "output_type": "stream",
     "text": [
      "(tf.float32, (tf.float32, tf.int32))\n",
      "(TensorShape([Dimension(10)]), (TensorShape([]), TensorShape([Dimension(100)])))\n"
     ]
    }
   ],
   "source": [
    "dataset3 = tf.data.Dataset.zip((dataset1, dataset2))\n",
    "print(dataset3.output_types)  # ==> (tf.float32, (tf.float32, tf.int32))\n",
    "print(dataset3.output_shapes)  # ==> \"(10, ((), (100,)))\""
   ]
  },
  {
   "cell_type": "code",
   "execution_count": 11,
   "metadata": {},
   "outputs": [
    {
     "name": "stdout",
     "output_type": "stream",
     "text": [
      "{'a': tf.float32, 'b': tf.int32}\n",
      "{'a': TensorShape([]), 'b': TensorShape([Dimension(100)])}\n"
     ]
    }
   ],
   "source": [
    "dataset = tf.data.Dataset.from_tensor_slices(\n",
    "   {\"a\": tf.random_uniform([4]),\n",
    "    \"b\": tf.random_uniform([4, 100], maxval=100, dtype=tf.int32)})\n",
    "print(dataset.output_types)  # ==> \"{'a': tf.float32, 'b': tf.int32}\"\n",
    "print(dataset.output_shapes)  # ==> \"{'a': (), 'b': (100,)}\""
   ]
  },
  {
   "cell_type": "code",
   "execution_count": 33,
   "metadata": {},
   "outputs": [],
   "source": [
    "np_dataset = (np.random.randint(0, 256, (4, 16, 16, 3)), np.random.randn(4, 16, 16, 1))"
   ]
  },
  {
   "cell_type": "code",
   "execution_count": 34,
   "metadata": {},
   "outputs": [],
   "source": [
    "dataset4 = tf.data.Dataset.from_tensor_slices({\n",
    "    'images': np_dataset[0],\n",
    "    'target': np_dataset[1]\n",
    "})"
   ]
  },
  {
   "cell_type": "code",
   "execution_count": 35,
   "metadata": {},
   "outputs": [
    {
     "data": {
      "text/plain": [
       "{'images': TensorShape([Dimension(16), Dimension(16), Dimension(3)]),\n",
       " 'target': TensorShape([Dimension(16), Dimension(16), Dimension(1)])}"
      ]
     },
     "execution_count": 35,
     "metadata": {},
     "output_type": "execute_result"
    }
   ],
   "source": [
    "dataset4.output_shapes"
   ]
  },
  {
   "cell_type": "code",
   "execution_count": 36,
   "metadata": {},
   "outputs": [],
   "source": [
    "iterator = dataset4.make_one_shot_iterator()"
   ]
  },
  {
   "cell_type": "code",
   "execution_count": 37,
   "metadata": {},
   "outputs": [],
   "source": [
    "next_element = iterator.get_next()"
   ]
  },
  {
   "cell_type": "code",
   "execution_count": 45,
   "metadata": {},
   "outputs": [
    {
     "data": {
      "text/plain": [
       "<tf.Tensor: id=79, shape=(16, 16, 3), dtype=int64, numpy=\n",
       "array([[[ 75, 190,   1],\n",
       "        [156, 213, 102],\n",
       "        [ 81, 143,  89],\n",
       "        [144, 213, 208],\n",
       "        [ 93, 135, 146],\n",
       "        [175,  86, 229],\n",
       "        [  0,   9, 114],\n",
       "        [ 99, 211, 242],\n",
       "        [ 94,  59, 245],\n",
       "        [240, 112, 125],\n",
       "        [177,  39,  45],\n",
       "        [  8, 109,  55],\n",
       "        [ 56, 149,   1],\n",
       "        [ 16, 239, 207],\n",
       "        [ 47,  44, 169],\n",
       "        [ 10,  80,  82]],\n",
       "\n",
       "       [[123, 163, 169],\n",
       "        [120, 118,  26],\n",
       "        [ 27, 151, 163],\n",
       "        [ 54,  21,  97],\n",
       "        [ 46,  90, 186],\n",
       "        [139, 220,  51],\n",
       "        [195, 155, 182],\n",
       "        [221,  70, 186],\n",
       "        [ 73, 122, 168],\n",
       "        [ 30, 185, 166],\n",
       "        [146, 150, 103],\n",
       "        [114,  61, 197],\n",
       "        [251,  35, 195],\n",
       "        [  3, 110,  76],\n",
       "        [182, 230, 202],\n",
       "        [160,  62, 189]],\n",
       "\n",
       "       [[179, 113,  20],\n",
       "        [  9, 199,  38],\n",
       "        [ 46, 175,  41],\n",
       "        [ 35, 118, 111],\n",
       "        [231, 186, 138],\n",
       "        [ 17, 128, 186],\n",
       "        [142, 232,  26],\n",
       "        [254,   1, 203],\n",
       "        [ 67, 111, 127],\n",
       "        [ 33,  61,  91],\n",
       "        [242, 250, 176],\n",
       "        [ 37,  55, 200],\n",
       "        [101, 167, 205],\n",
       "        [ 34,  40, 154],\n",
       "        [195, 154, 109],\n",
       "        [213,  39,  80]],\n",
       "\n",
       "       [[ 42, 118,  49],\n",
       "        [ 48,  18, 224],\n",
       "        [159,   1, 107],\n",
       "        [ 97, 120,  85],\n",
       "        [196, 162, 153],\n",
       "        [  0,  71,  22],\n",
       "        [ 88,  18, 232],\n",
       "        [185,  66,  95],\n",
       "        [ 40, 241, 189],\n",
       "        [251,  74,  39],\n",
       "        [163,   0, 171],\n",
       "        [ 72, 241, 162],\n",
       "        [162, 138,  88],\n",
       "        [229, 164, 235],\n",
       "        [168, 196, 182],\n",
       "        [233, 100, 102]],\n",
       "\n",
       "       [[ 95,  45,   3],\n",
       "        [255,  24,  39],\n",
       "        [253,  20, 161],\n",
       "        [205,  36,  88],\n",
       "        [ 63,  12, 162],\n",
       "        [255, 239, 121],\n",
       "        [ 92, 123,  84],\n",
       "        [209, 105, 194],\n",
       "        [ 61, 187,  50],\n",
       "        [242, 128,  36],\n",
       "        [127, 117, 204],\n",
       "        [169, 180,  31],\n",
       "        [221,  53, 121],\n",
       "        [170, 121,  87],\n",
       "        [202, 226, 176],\n",
       "        [ 97, 128, 142]],\n",
       "\n",
       "       [[196, 239, 158],\n",
       "        [ 66, 218, 148],\n",
       "        [ 87, 249,  72],\n",
       "        [160, 244,  61],\n",
       "        [190, 186, 171],\n",
       "        [225, 242, 151],\n",
       "        [ 73, 180,  13],\n",
       "        [254, 119,  78],\n",
       "        [118,  31,  68],\n",
       "        [159,  96, 114],\n",
       "        [222, 181, 231],\n",
       "        [ 35,  94, 152],\n",
       "        [ 47,  38, 187],\n",
       "        [221,  92, 233],\n",
       "        [247, 125, 138],\n",
       "        [136, 148, 140]],\n",
       "\n",
       "       [[ 16,  67, 165],\n",
       "        [ 12,  89, 203],\n",
       "        [218, 182, 166],\n",
       "        [177, 188,  20],\n",
       "        [ 40, 200,  86],\n",
       "        [159, 113,  54],\n",
       "        [146,  21, 217],\n",
       "        [131,  67,  86],\n",
       "        [133, 213,  12],\n",
       "        [ 84,  81,  43],\n",
       "        [ 35,  33,  43],\n",
       "        [187,  97,   0],\n",
       "        [159,  41,  84],\n",
       "        [ 11, 107, 136],\n",
       "        [135, 245,  12],\n",
       "        [166, 145,  63]],\n",
       "\n",
       "       [[174, 106,  40],\n",
       "        [184, 138, 233],\n",
       "        [ 85,   2,  31],\n",
       "        [201,  75,  33],\n",
       "        [  1, 191, 216],\n",
       "        [128,  36,  88],\n",
       "        [ 28, 214, 193],\n",
       "        [251,  22,  48],\n",
       "        [ 28, 142, 149],\n",
       "        [174, 137, 104],\n",
       "        [  3, 221, 128],\n",
       "        [ 42, 243,  42],\n",
       "        [ 66,  67, 147],\n",
       "        [216,  25, 241],\n",
       "        [ 93, 163,  65],\n",
       "        [156,  87, 176]],\n",
       "\n",
       "       [[152, 151, 122],\n",
       "        [ 66, 218, 217],\n",
       "        [138,  23,  20],\n",
       "        [ 61,  25, 153],\n",
       "        [ 41,  76,   8],\n",
       "        [115,  92, 251],\n",
       "        [166, 199, 184],\n",
       "        [ 51, 139,  41],\n",
       "        [254, 230, 204],\n",
       "        [ 47, 250, 143],\n",
       "        [126,  11, 234],\n",
       "        [184,  32, 173],\n",
       "        [  6, 139, 159],\n",
       "        [134,  96,  66],\n",
       "        [172, 168, 127],\n",
       "        [160, 204, 193]],\n",
       "\n",
       "       [[138, 162,  36],\n",
       "        [ 38,  67, 209],\n",
       "        [ 24, 249,  90],\n",
       "        [101, 101, 238],\n",
       "        [160,  51,  86],\n",
       "        [ 80,  42, 237],\n",
       "        [248, 177,  85],\n",
       "        [197,  33, 207],\n",
       "        [ 72, 191, 148],\n",
       "        [ 60, 114,  24],\n",
       "        [ 89,  16, 116],\n",
       "        [ 56,  22, 181],\n",
       "        [179,  23,  41],\n",
       "        [245, 127,  90],\n",
       "        [ 17, 230, 234],\n",
       "        [ 10,  19, 214]],\n",
       "\n",
       "       [[236,  94, 183],\n",
       "        [117,  10, 247],\n",
       "        [ 77, 224, 250],\n",
       "        [131,  66, 238],\n",
       "        [122, 235, 245],\n",
       "        [169, 154,  62],\n",
       "        [ 59, 210,  10],\n",
       "        [ 60,  76,   9],\n",
       "        [124, 193,  80],\n",
       "        [ 51,  42,  55],\n",
       "        [248, 149, 136],\n",
       "        [147, 112,  60],\n",
       "        [ 18,  70, 176],\n",
       "        [227,  14, 188],\n",
       "        [ 78,   0, 242],\n",
       "        [132,  23, 159]],\n",
       "\n",
       "       [[ 76, 225,  28],\n",
       "        [ 10, 237, 157],\n",
       "        [207,  95, 248],\n",
       "        [127, 167,  58],\n",
       "        [232, 203, 142],\n",
       "        [ 27,  87, 221],\n",
       "        [ 15,  68, 116],\n",
       "        [  8, 221, 207],\n",
       "        [162, 164,  62],\n",
       "        [140,  49, 142],\n",
       "        [ 54, 231, 158],\n",
       "        [ 45, 232,  26],\n",
       "        [  8, 180,  85],\n",
       "        [ 34, 225, 175],\n",
       "        [163,  69, 245],\n",
       "        [ 87,  98, 237]],\n",
       "\n",
       "       [[254, 143, 184],\n",
       "        [225, 239,  99],\n",
       "        [168,  83, 194],\n",
       "        [226,  57, 197],\n",
       "        [191, 145, 201],\n",
       "        [ 57,  96, 191],\n",
       "        [ 44,  28, 130],\n",
       "        [148,  31,  76],\n",
       "        [ 98, 208, 246],\n",
       "        [ 71, 199, 100],\n",
       "        [ 82, 183,  34],\n",
       "        [ 20,  45, 116],\n",
       "        [115, 108,  39],\n",
       "        [161,   1, 255],\n",
       "        [178,  66, 191],\n",
       "        [233, 226, 125]],\n",
       "\n",
       "       [[ 72, 218, 125],\n",
       "        [  9, 158, 119],\n",
       "        [151, 149, 116],\n",
       "        [217, 104, 237],\n",
       "        [216, 236, 148],\n",
       "        [178, 184, 168],\n",
       "        [114, 171, 160],\n",
       "        [247, 130,  48],\n",
       "        [198,  25,  95],\n",
       "        [255,  82,  52],\n",
       "        [247, 111, 179],\n",
       "        [218,  50,  67],\n",
       "        [247, 241, 211],\n",
       "        [252, 243, 140],\n",
       "        [127, 211, 147],\n",
       "        [ 68,  82,  54]],\n",
       "\n",
       "       [[125,  40, 183],\n",
       "        [ 22,  25,  19],\n",
       "        [ 57, 224,  38],\n",
       "        [249, 126, 237],\n",
       "        [ 60,  68, 249],\n",
       "        [ 65, 251, 146],\n",
       "        [ 87, 175,  32],\n",
       "        [204, 212,  16],\n",
       "        [ 90, 151,  15],\n",
       "        [172,  74, 211],\n",
       "        [145,  12, 173],\n",
       "        [ 72, 134, 151],\n",
       "        [197, 222, 220],\n",
       "        [204, 202, 243],\n",
       "        [213,  65, 251],\n",
       "        [189, 106,  39]],\n",
       "\n",
       "       [[129,  89, 212],\n",
       "        [109, 151, 222],\n",
       "        [254, 131, 187],\n",
       "        [ 54, 227,  32],\n",
       "        [110, 107, 146],\n",
       "        [104,  75,   1],\n",
       "        [ 22, 221,  34],\n",
       "        [210,  74, 140],\n",
       "        [181, 241, 113],\n",
       "        [ 55, 183, 111],\n",
       "        [235, 139, 188],\n",
       "        [248,  31, 230],\n",
       "        [ 92, 250, 117],\n",
       "        [126, 159,  13],\n",
       "        [ 79,  62,  64],\n",
       "        [  5,  81, 102]]])>"
      ]
     },
     "execution_count": 45,
     "metadata": {},
     "output_type": "execute_result"
    }
   ],
   "source": [
    "next_element['images']"
   ]
  },
  {
   "cell_type": "code",
   "execution_count": null,
   "metadata": {},
   "outputs": [],
   "source": []
  }
 ],
 "metadata": {
  "kernelspec": {
   "display_name": "Python (dl)",
   "language": "python",
   "name": "dl"
  },
  "language_info": {
   "codemirror_mode": {
    "name": "ipython",
    "version": 3
   },
   "file_extension": ".py",
   "mimetype": "text/x-python",
   "name": "python",
   "nbconvert_exporter": "python",
   "pygments_lexer": "ipython3",
   "version": "3.7.4"
  }
 },
 "nbformat": 4,
 "nbformat_minor": 4
}
