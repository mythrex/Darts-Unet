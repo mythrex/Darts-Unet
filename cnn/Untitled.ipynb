{
 "cells": [
  {
   "cell_type": "code",
   "execution_count": 9,
   "metadata": {},
   "outputs": [],
   "source": [
    "import tensorflow as tf\n",
    "import numpy as np"
   ]
  },
  {
   "cell_type": "code",
   "execution_count": 3,
   "metadata": {},
   "outputs": [],
   "source": [
    "x = tf.placeholder(tf.float32)"
   ]
  },
  {
   "cell_type": "code",
   "execution_count": 4,
   "metadata": {},
   "outputs": [],
   "source": [
    "y =  2*x*x"
   ]
  },
  {
   "cell_type": "code",
   "execution_count": 5,
   "metadata": {},
   "outputs": [],
   "source": [
    "var_grad = tf.gradients(y, x)"
   ]
  },
  {
   "cell_type": "code",
   "execution_count": 14,
   "metadata": {},
   "outputs": [
    {
     "name": "stdout",
     "output_type": "stream",
     "text": [
      "[[198 130 157]\n",
      " [165  23 245]\n",
      " [  6 106 107]\n",
      " [224  70   3]\n",
      " [  9 181 107]] [array([[792., 520., 628.],\n",
      "       [660.,  92., 980.],\n",
      "       [ 24., 424., 428.],\n",
      "       [896., 280.,  12.],\n",
      "       [ 36., 724., 428.]], dtype=float32)]\n",
      "(5, 3) [array([[792., 520., 628.],\n",
      "       [660.,  92., 980.],\n",
      "       [ 24., 424., 428.],\n",
      "       [896., 280.,  12.],\n",
      "       [ 36., 724., 428.]], dtype=float32)]\n"
     ]
    }
   ],
   "source": [
    "with tf.Session() as sess:\n",
    "    xs = np.random.randint(0, 255, (5, 3))\n",
    "    var_grad_val = sess.run(var_grad,feed_dict={x: xs}) \n",
    "    print(xs, var_grad_val)\n",
    "    print(xs.shape, var_grad_val)"
   ]
  },
  {
   "cell_type": "code",
   "execution_count": null,
   "metadata": {},
   "outputs": [],
   "source": []
  }
 ],
 "metadata": {
  "kernelspec": {
   "display_name": "Python (dl)",
   "language": "python",
   "name": "dl"
  },
  "language_info": {
   "codemirror_mode": {
    "name": "ipython",
    "version": 3
   },
   "file_extension": ".py",
   "mimetype": "text/x-python",
   "name": "python",
   "nbconvert_exporter": "python",
   "pygments_lexer": "ipython3",
   "version": "3.7.4"
  }
 },
 "nbformat": 4,
 "nbformat_minor": 4
}
