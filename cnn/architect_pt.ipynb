{
 "cells": [
  {
   "cell_type": "code",
   "execution_count": 1,
   "metadata": {},
   "outputs": [],
   "source": [
    "import torch\n",
    "import numpy as np\n",
    "import torch.nn as nn\n",
    "from torch.autograd import Variable"
   ]
  },
  {
   "cell_type": "markdown",
   "metadata": {},
   "source": [
    "# _concat"
   ]
  },
  {
   "cell_type": "code",
   "execution_count": 2,
   "metadata": {},
   "outputs": [],
   "source": [
    "def _concat(xs):\n",
    "    \"\"\"Concats the arrays\n",
    "\n",
    "    Args:\n",
    "        xs (array): the 2d array to be passed\n",
    "\n",
    "    Returns:\n",
    "        array: concated array\n",
    "    \"\"\"\n",
    "    return torch.cat([x.view(-1) for x in xs])"
   ]
  },
  {
   "cell_type": "code",
   "execution_count": 3,
   "metadata": {},
   "outputs": [],
   "source": [
    "a = torch.tensor([[[[1],[2],[3]], [[4], [5], [6]]], [[[2],[4],[6]], [[8], [10], [12]]]])\n",
    "b = torch.tensor([1, 2])"
   ]
  },
  {
   "cell_type": "code",
   "execution_count": 4,
   "metadata": {},
   "outputs": [
    {
     "data": {
      "text/plain": [
       "tensor([ 1,  2,  3,  4,  5,  6,  2,  4,  6,  8, 10, 12,  1,  2])"
      ]
     },
     "execution_count": 4,
     "metadata": {},
     "output_type": "execute_result"
    }
   ],
   "source": [
    "_concat([a,b])"
   ]
  },
  {
   "cell_type": "markdown",
   "metadata": {},
   "source": [
    "# Architect"
   ]
  },
  {
   "cell_type": "code",
   "execution_count": 5,
   "metadata": {},
   "outputs": [],
   "source": [
    "class Architect(object):\n",
    "    \"\"\"Constructs the model\n",
    "\n",
    "    Parameters:\n",
    "      network_momentum(float):  network momentum\n",
    "      network_weight_decay(float): network weight decay\n",
    "      model(Network): Network archtecture with cells\n",
    "      optimise(optimiser): Adam / SGD\n",
    "    \"\"\"\n",
    "\n",
    "    def __init__(self, model, args):\n",
    "        \"\"\"Initialises the architecture\n",
    "\n",
    "        Args:\n",
    "            model (Network): Network archtecture with cells\n",
    "            args (dict): cli args\n",
    "        \"\"\"\n",
    "        self.network_momentum = args.momentum\n",
    "        self.network_weight_decay = args.weight_decay\n",
    "        self.model = model\n",
    "        self.optimizer = torch.optim.Adam(self.model.arch_parameters(),\n",
    "                                          lr=args.arch_learning_rate, betas=(0.5, 0.999), weight_decay=args.arch_weight_decay)\n",
    "\n",
    "    def _compute_unrolled_model(self, input, target, eta, network_optimizer):\n",
    "\n",
    "        loss = self.model._loss(input, target)\n",
    "        theta = _concat(self.model.parameters()).data\n",
    "        try:\n",
    "            moment = _concat(network_optimizer.state[v]['momentum_buffer']\n",
    "                             for v in self.model.parameters()).mul_(self.network_momentum)\n",
    "        except:\n",
    "            moment = torch.zeros_like(theta)\n",
    "        dtheta = _concat(torch.autograd.grad(\n",
    "            loss, self.model.parameters())).data + self.network_weight_decay*theta\n",
    "        unrolled_model = self._construct_model_from_theta(\n",
    "            theta.sub(eta, moment+dtheta))\n",
    "        return unrolled_model\n",
    "\n",
    "    def step(self, input_train, target_train, input_valid, target_valid, eta, network_optimizer, unrolled):\n",
    "        \"\"\"Computer a step for gradient descend\n",
    "\n",
    "        Args:\n",
    "            input_train (tensor): a train of input\n",
    "            target_train (tensor): a train of targets\n",
    "            input_valid (tensor): a train of validation\n",
    "            target_valid (tensor): a train of validation targets\n",
    "            # TODO: complete eta\n",
    "            eta (tensor): eta\n",
    "            network_optimizer (optimiser): network optimiser for network\n",
    "            unrolled (bool): True if training we need unrolled\n",
    "        \"\"\"\n",
    "        self.optimizer.zero_grad()\n",
    "        if unrolled:\n",
    "            self._backward_step_unrolled(\n",
    "                input_train, target_train, input_valid, target_valid, eta, network_optimizer)\n",
    "        else:\n",
    "            self._backward_step(input_valid, target_valid)\n",
    "        self.optimizer.step()\n",
    "\n",
    "    def _backward_step(self, input_valid, target_valid):\n",
    "        \"\"\"Backward step for validation\n",
    "\n",
    "        Args:\n",
    "            input_train (tensor): a train of input\n",
    "            target_train (tensor): a train of targets\n",
    "        \"\"\"\n",
    "        loss = self.model._loss(input_valid, target_valid)\n",
    "        loss.backward()\n",
    "\n",
    "    def _backward_step_unrolled(self, input_train, target_train, input_valid, target_valid, eta, network_optimizer):\n",
    "        \"\"\"Backward step for training\n",
    "\n",
    "        Args:\n",
    "            input_train (tensor): a train of input\n",
    "            target_train (tensor): a train of targets\n",
    "            input_valid (tensor): a train of validation\n",
    "            target_valid (tensor): a train of validation targets\n",
    "            eta (tensor): eta\n",
    "            network_optimizer (optimiser): network optimiser for network\n",
    "        \"\"\"\n",
    "        unrolled_model = self._compute_unrolled_model(\n",
    "            input_train, target_train, eta, network_optimizer)\n",
    "        unrolled_loss = unrolled_model._loss(input_valid, target_valid)\n",
    "\n",
    "        unrolled_loss.backward()\n",
    "        dalpha = [v.grad for v in unrolled_model.arch_parameters()]\n",
    "        vector = [v.grad.data for v in unrolled_model.parameters()]\n",
    "            \n",
    "        implicit_grads = self._hessian_vector_product(\n",
    "            vector, input_train, target_train)\n",
    "\n",
    "        for g, ig in zip(dalpha, implicit_grads):\n",
    "            g.data.sub_(eta, ig.data)\n",
    "\n",
    "        for v, g in zip(self.model.arch_parameters(), dalpha):\n",
    "            if v.grad is None:\n",
    "                v.grad = Variable(g.data)\n",
    "            else:\n",
    "                v.grad.data.copy_(g.data)\n",
    "\n",
    "    def _construct_model_from_theta(self, theta):\n",
    "        \"\"\"Construct and Update model from theta\n",
    "\n",
    "        Args:\n",
    "            theta (tensor): thetas\n",
    "\n",
    "        Returns:\n",
    "            Network: return new model\n",
    "        \"\"\"\n",
    "        model_new = self.model.new()\n",
    "        model_dict = self.model.state_dict()\n",
    "\n",
    "        params, offset = {}, 0\n",
    "        for k, v in self.model.named_parameters():\n",
    "            v_length = np.prod(v.size())\n",
    "            params[k] = theta[offset: offset+v_length].view(v.size())\n",
    "            offset += v_length\n",
    "        \n",
    "        print(param)\n",
    "        assert offset == len(theta)\n",
    "        model_dict.update(params)\n",
    "        model_new.load_state_dict(model_dict)\n",
    "        return model_new\n",
    "\n",
    "    def _hessian_vector_product(self, vector, input, target, r=1e-2):\n",
    "        R = r / _concat(vector).norm()\n",
    "        for p, v in zip(self.model.parameters(), vector):\n",
    "            p.data.add_(R, v)\n",
    "        loss = self.model._loss(input, target)\n",
    "        grads_p = torch.autograd.grad(loss, self.model.arch_parameters())\n",
    "\n",
    "        for p, v in zip(self.model.parameters(), vector):\n",
    "            p.data.sub_(2*R, v)\n",
    "        loss = self.model._loss(input, target)\n",
    "        grads_n = torch.autograd.grad(loss, self.model.arch_parameters())\n",
    "\n",
    "        for p, v in zip(self.model.parameters(), vector):\n",
    "            p.data.add_(R, v)\n",
    "\n",
    "        return [(x-y).div_(2*R) for x, y in zip(grads_p, grads_n)]\n"
   ]
  },
  {
   "cell_type": "markdown",
   "metadata": {},
   "source": [
    "## Testing"
   ]
  },
  {
   "cell_type": "code",
   "execution_count": 6,
   "metadata": {},
   "outputs": [],
   "source": [
    "from model_search import Network"
   ]
  },
  {
   "cell_type": "code",
   "execution_count": 7,
   "metadata": {},
   "outputs": [],
   "source": [
    "criterion = nn.BCELoss()\n",
    "model = Network(3, 2, 3, criterion)\n",
    "args = {\n",
    "    \"momentum\": 0.9,\n",
    "    \"weight_decay\": 3e-4,\n",
    "    \"arch_learning_rate\": 3e-4,\n",
    "    \"arch_weight_decay\": 1e-3\n",
    "}\n",
    "\n",
    "class Struct:\n",
    "    def __init__(self, **entries):\n",
    "        self.__dict__.update(entries)"
   ]
  },
  {
   "cell_type": "code",
   "execution_count": 8,
   "metadata": {},
   "outputs": [],
   "source": [
    "arc = Architect(model, Struct(**args))"
   ]
  },
  {
   "cell_type": "code",
   "execution_count": null,
   "metadata": {},
   "outputs": [],
   "source": [
    "for k, v in model.named_parameters():\n",
    "    v_length = np.prod(v.size())\n",
    "    print(v.size())    "
   ]
  },
  {
   "cell_type": "code",
   "execution_count": 12,
   "metadata": {},
   "outputs": [],
   "source": [
    "for p in model.parameters():\n",
    "    if p.shape == torch.randn(14, 8).shape:\n",
    "        print(p)"
   ]
  },
  {
   "cell_type": "code",
   "execution_count": null,
   "metadata": {},
   "outputs": [],
   "source": []
  }
 ],
 "metadata": {
  "kernelspec": {
   "display_name": "Python (dl)",
   "language": "python",
   "name": "dl"
  },
  "language_info": {
   "codemirror_mode": {
    "name": "ipython",
    "version": 3
   },
   "file_extension": ".py",
   "mimetype": "text/x-python",
   "name": "python",
   "nbconvert_exporter": "python",
   "pygments_lexer": "ipython3",
   "version": "3.7.4"
  }
 },
 "nbformat": 4,
 "nbformat_minor": 4
}
