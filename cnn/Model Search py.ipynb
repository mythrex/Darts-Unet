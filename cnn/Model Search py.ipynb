{
 "cells": [
  {
   "cell_type": "code",
<<<<<<< HEAD
   "execution_count": 1,
   "metadata": {},
   "outputs": [
    {
     "name": "stderr",
     "output_type": "stream",
     "text": [
      "/home/mythrex/anaconda3/envs/bgh/lib/python3.6/site-packages/requests/__init__.py:91: RequestsDependencyWarning: urllib3 (1.25.3) or chardet (3.0.4) doesn't match a supported version!\n",
      "  RequestsDependencyWarning)\n"
     ]
    }
   ],
=======
   "execution_count": 68,
   "metadata": {},
   "outputs": [],
>>>>>>> aa228ba1a50cc742532a818961f7702f16a6a762
   "source": [
    "import tensorflow as tf\n",
    "from tensorflow.keras import Model\n",
    "from genotypes import PRIMITIVES\n",
    "from genotypes import Genotype\n",
    "from operations import *"
   ]
  },
  {
   "cell_type": "code",
   "execution_count": 2,
   "metadata": {},
   "outputs": [],
   "source": [
    "tf.enable_eager_execution()"
   ]
  },
  {
   "cell_type": "code",
<<<<<<< HEAD
   "execution_count": 3,
=======
   "execution_count": 12,
>>>>>>> aa228ba1a50cc742532a818961f7702f16a6a762
   "metadata": {},
   "outputs": [],
   "source": [
    "class MixedOp(Model):\n",
    "    \"\"\"Makes mixed operations object\n",
    "    \"\"\"\n",
    "\n",
    "    def __init__(self, C, stride):\n",
    "        \"\"\"Makes ops array of all the arrays\n",
    "\n",
    "        Args:\n",
    "            C (int): the current state\n",
    "        \"\"\"\n",
    "        super(MixedOp, self).__init__()\n",
    "        self._ops = []\n",
    "        for primitive in PRIMITIVES:\n",
    "                op = OPS[primitive](C, stride)\n",
    "                if 'pool' in primitive:\n",
    "                    if('avg' in primitive):\n",
    "                        op = AvgPool3x3(C, stride)\n",
    "                    elif('max' in primitive):\n",
    "                        op = MaxPool3x3(C, stride)\n",
    "                self._ops.append(op)\n",
    "        \n",
    "    def call(self, x, weights):\n",
    "        \"\"\"Converts the discrete set of operation into conitnuous mixed operation\n",
    "\n",
    "        Args:\n",
    "            x (tensor): can be tensor or array, (e.g. image-array)\n",
    "            weights (tensor): tensor or array of Softmax probability of alphas\n",
    "\n",
    "        Returns:\n",
    "            tensor: sum of product(weights, operation(x))\n",
    "        \"\"\"\n",
    "        return sum(w * op(x) for w, op in zip(weights, self._ops))"
   ]
  },
  {
   "cell_type": "code",
<<<<<<< HEAD
   "execution_count": 4,
=======
   "execution_count": 27,
>>>>>>> aa228ba1a50cc742532a818961f7702f16a6a762
   "metadata": {},
   "outputs": [],
   "source": [
    "class Cell(Model):\n",
    "\n",
    "  def __init__(self, steps, multiplier, C_prev_prev, C_prev, C, reduction, reduction_prev, upsample_prev):\n",
    "    super(Cell, self).__init__()\n",
    "    self.reduction = reduction\n",
    "\n",
    "    if reduction_prev:\n",
    "      self.preprocess0 = FactorizedReduce(C_prev_prev, C)\n",
    "    elif upsample_prev:\n",
    "      self.preprocess0 = FactorizedUp(C_prev_prev, C)\n",
    "    else:\n",
    "      self.preprocess0 = ReLUConvBN(C_prev_prev, C, 1, 1, 'same')\n",
    "    self.preprocess1 = ReLUConvBN(C_prev, C, 1, 1, 'same')\n",
    "    self._steps = steps\n",
    "    self._multiplier = multiplier\n",
    "\n",
    "    self._ops = []\n",
    "    self._bns = []\n",
    "    for i in range(self._steps):\n",
    "      for j in range(2+i):\n",
    "        stride = 2 if reduction and j < 2 else 1\n",
    "        op = MixedOp(C, stride)\n",
    "        self._ops.append(op)\n",
    "\n",
    "  def call(self, s0, s1, weights):\n",
    "    \n",
    "    s0 = self.preprocess0(s0)\n",
    "    s1 = self.preprocess1(s1)\n",
    "    \n",
    "    states = [s0, s1]\n",
    "    offset = 0\n",
    "    for i in range(self._steps):\n",
    "      s = sum(self._ops[offset+j](h, weights[offset+j]) for j, h in enumerate(states))\n",
    "      offset += len(states)\n",
    "      states.append(s)\n",
    "\n",
    "    return tf.concat(states[-self._multiplier:], axis=-1)\n"
   ]
  },
  {
   "cell_type": "code",
<<<<<<< HEAD
   "execution_count": 5,
=======
   "execution_count": 59,
>>>>>>> aa228ba1a50cc742532a818961f7702f16a6a762
   "metadata": {},
   "outputs": [],
   "source": [
    "class UpsampleCell(Model):\n",
    "\n",
    "    def __init__(self, steps, multiplier, C_prev_prev, C_prev, C):\n",
    "        super(UpsampleCell, self).__init__()\n",
    "        self.preprocess0 = ReLUConvBN(C_prev_prev, C, 1, 1, 'same')\n",
    "        self.preprocess1 = ReLUConvBN(C_prev, C, 1, 1, 'same')\n",
    "        self._steps = steps\n",
    "        self._multiplier = multiplier\n",
    "        self.UpConv = layers.Conv2DTranspose(C*self._multiplier, \n",
    "                                        kernel_size=3,\n",
    "                                        strides=2,\n",
    "                                        padding='same')\n",
    "        self.reduction = False\n",
    "\n",
    "    def call(self, s0, s1):\n",
    "        s0 = self.preprocess0(s0)\n",
    "        s1 = self.preprocess1(s1)\n",
    "\n",
    "        s0 = self.UpConv(s0)\n",
    "        s1 = self.UpConv(s1)\n",
    "\n",
    "        return s0 + s1\n"
   ]
  },
  {
   "cell_type": "code",
<<<<<<< HEAD
   "execution_count": 21,
=======
   "execution_count": 75,
>>>>>>> aa228ba1a50cc742532a818961f7702f16a6a762
   "metadata": {},
   "outputs": [],
   "source": [
    "class Network(Model):\n",
    "    \n",
<<<<<<< HEAD
    "    def __init__(self, C, net_layers, criterion, steps=4, multiplier=4, stem_multiplier=3):\n",
    "        super(Network, self).__init__()\n",
    "        self._C = C\n",
    "        self._criterion = criterion\n",
    "        self._steps = steps\n",
    "        self._multiplier = multiplier\n",
    "        self.net_layers = net_layers\n",
=======
    "    def __init__(self, C, layers, criterion, steps=4, multiplier=4, stem_multiplier=3):\n",
    "        super(Network, self).__init__()\n",
    "        self._C = C\n",
    "        self._num_classes = num_classes\n",
    "        self._layers = layers\n",
    "        self._criterion = criterion\n",
    "        self._steps = steps\n",
    "        self._multiplier = multiplier\n",
    "        self._layers = layers\n",
>>>>>>> aa228ba1a50cc742532a818961f7702f16a6a762
    "\n",
    "        C_curr = C*stem_multiplier\n",
    "\n",
    "        # stem operation\n",
<<<<<<< HEAD
    "        self.stem_op = tf.keras.Sequential()\n",
    "        self.stem_op.add(tf.layers.Conv2D(C_curr, kernel_size=3, padding='same', use_bias=False))\n",
    "        self.stem_op.add(tf.layers.BatchNormalization())\n",
=======
    "        self.stem = tf.keras.Sequential()\n",
    "        self.stem.add(tf.layers.Conv2D(C_curr, kernel_size=3, padding='same', use_bias=False))\n",
    "        self.stem.add(tf.layers.BatchNormalization())\n",
>>>>>>> aa228ba1a50cc742532a818961f7702f16a6a762
    "\n",
    "        C_prev_prev, C_prev, C_curr = C_curr, C_curr, C\n",
    "        self.cells = []\n",
    "\n",
    "        reduction_prev = False\n",
    "        # For reduction\n",
<<<<<<< HEAD
    "        for i in range(self.net_layers):\n",
=======
    "        for i in range(self._layers):\n",
>>>>>>> aa228ba1a50cc742532a818961f7702f16a6a762
    "          if i % 2 == 1:\n",
    "            C_curr *= 2\n",
    "            reduction = True\n",
    "          else:\n",
    "            reduction = False\n",
    "\n",
    "          cell = Cell(steps, multiplier, C_prev_prev, C_prev, C_curr,\n",
    "                      reduction,\n",
    "                      reduction_prev,\n",
    "                      upsample_prev=False)\n",
    "          reduction_prev = reduction\n",
    "          self.cells = [cell]\n",
    "\n",
    "          C_prev_prev, C_prev = C_prev, multiplier*C_curr\n",
    "\n",
<<<<<<< HEAD
    "        for i in range(self.net_layers-1):\n",
=======
    "        for i in range(layers-1):\n",
>>>>>>> aa228ba1a50cc742532a818961f7702f16a6a762
    "          if i % 2 == 0:\n",
    "            C_curr = C_curr // 2\n",
    "\n",
    "            cell = UpsampleCell(steps, multiplier, C_prev_prev, C_prev, C_curr)\n",
    "          else:\n",
    "\n",
    "            cell = Cell(steps, multiplier, C_prev_prev, C_prev, C_curr,\n",
    "                        reduction=False,\n",
    "                        reduction_prev=False,\n",
    "                        upsample_prev=True)\n",
    "          self.cells += [cell]\n",
    "          C_prev_prev, C_prev = C_prev, multiplier*C_curr\n",
    "\n",
    "        self.softmaxConv = tf.keras.Sequential()\n",
    "        self.softmaxConv.add(tf.layers.Conv2D(1, kernel_size=1, stride=1, padding='same'))\n",
    "        self.softmaxConv.add(Softmax())\n",
    "\n",
    "        self._initialize_alphas()\n",
    "    \n",
    "    def _initialize_alphas(self):\n",
    "        k = sum(1 for i in range(self._steps) for n in range(2+i))\n",
    "        num_ops = len(PRIMITIVES)\n",
    "        \n",
    "        self.alphas_normal = tf.Variable(1e-3*tf.random.uniform([k, num_ops]), name='aphas_normal')\n",
    "        self.alphas_reduce = tf.Variable(1e-3*tf.random.uniform([k, num_ops]), name='aphas_reduce')\n",
    "        self._arch_parameters = [\n",
    "          self.alphas_normal,\n",
    "          self.alphas_reduce,\n",
    "        ]"
   ]
  },
  {
   "cell_type": "markdown",
   "metadata": {},
   "source": [
<<<<<<< HEAD
    "## Network Test"
   ]
  },
  {
   "cell_type": "code",
   "execution_count": 22,
   "metadata": {},
   "outputs": [
    {
     "ename": "TypeError",
     "evalue": "('Keyword argument not understood:', 'stride')",
     "output_type": "error",
     "traceback": [
      "\u001b[0;31m---------------------------------------------------------------------------\u001b[0m",
      "\u001b[0;31mTypeError\u001b[0m                                 Traceback (most recent call last)",
      "\u001b[0;32m<ipython-input-22-2ff67d8cdce1>\u001b[0m in \u001b[0;36m<module>\u001b[0;34m\u001b[0m\n\u001b[0;32m----> 1\u001b[0;31m \u001b[0mnetwork\u001b[0m \u001b[0;34m=\u001b[0m \u001b[0mNetwork\u001b[0m\u001b[0;34m(\u001b[0m\u001b[0;36m3\u001b[0m\u001b[0;34m,\u001b[0m \u001b[0;36m7\u001b[0m\u001b[0;34m,\u001b[0m \u001b[0;34m'criterion'\u001b[0m\u001b[0;34m)\u001b[0m\u001b[0;34m\u001b[0m\u001b[0;34m\u001b[0m\u001b[0m\n\u001b[0m",
      "\u001b[0;32m<ipython-input-21-1439bef9bcec>\u001b[0m in \u001b[0;36m__init__\u001b[0;34m(self, C, net_layers, criterion, steps, multiplier, stem_multiplier)\u001b[0m\n\u001b[1;32m     52\u001b[0m \u001b[0;34m\u001b[0m\u001b[0m\n\u001b[1;32m     53\u001b[0m         \u001b[0mself\u001b[0m\u001b[0;34m.\u001b[0m\u001b[0msoftmaxConv\u001b[0m \u001b[0;34m=\u001b[0m \u001b[0mtf\u001b[0m\u001b[0;34m.\u001b[0m\u001b[0mkeras\u001b[0m\u001b[0;34m.\u001b[0m\u001b[0mSequential\u001b[0m\u001b[0;34m(\u001b[0m\u001b[0;34m)\u001b[0m\u001b[0;34m\u001b[0m\u001b[0;34m\u001b[0m\u001b[0m\n\u001b[0;32m---> 54\u001b[0;31m         \u001b[0mself\u001b[0m\u001b[0;34m.\u001b[0m\u001b[0msoftmaxConv\u001b[0m\u001b[0;34m.\u001b[0m\u001b[0madd\u001b[0m\u001b[0;34m(\u001b[0m\u001b[0mtf\u001b[0m\u001b[0;34m.\u001b[0m\u001b[0mlayers\u001b[0m\u001b[0;34m.\u001b[0m\u001b[0mConv2D\u001b[0m\u001b[0;34m(\u001b[0m\u001b[0;36m1\u001b[0m\u001b[0;34m,\u001b[0m \u001b[0mkernel_size\u001b[0m\u001b[0;34m=\u001b[0m\u001b[0;36m1\u001b[0m\u001b[0;34m,\u001b[0m \u001b[0mstride\u001b[0m\u001b[0;34m=\u001b[0m\u001b[0;36m1\u001b[0m\u001b[0;34m,\u001b[0m \u001b[0mpadding\u001b[0m\u001b[0;34m=\u001b[0m\u001b[0;34m'same'\u001b[0m\u001b[0;34m)\u001b[0m\u001b[0;34m)\u001b[0m\u001b[0;34m\u001b[0m\u001b[0;34m\u001b[0m\u001b[0m\n\u001b[0m\u001b[1;32m     55\u001b[0m         \u001b[0mself\u001b[0m\u001b[0;34m.\u001b[0m\u001b[0msoftmaxConv\u001b[0m\u001b[0;34m.\u001b[0m\u001b[0madd\u001b[0m\u001b[0;34m(\u001b[0m\u001b[0mSoftmax\u001b[0m\u001b[0;34m(\u001b[0m\u001b[0;34m)\u001b[0m\u001b[0;34m)\u001b[0m\u001b[0;34m\u001b[0m\u001b[0;34m\u001b[0m\u001b[0m\n\u001b[1;32m     56\u001b[0m \u001b[0;34m\u001b[0m\u001b[0m\n",
      "\u001b[0;32m~/anaconda3/envs/bgh/lib/python3.6/site-packages/tensorflow/python/layers/convolutional.py\u001b[0m in \u001b[0;36m__init__\u001b[0;34m(self, filters, kernel_size, strides, padding, data_format, dilation_rate, activation, use_bias, kernel_initializer, bias_initializer, kernel_regularizer, bias_regularizer, activity_regularizer, kernel_constraint, bias_constraint, trainable, name, **kwargs)\u001b[0m\n\u001b[1;32m    312\u001b[0m         \u001b[0mbias_constraint\u001b[0m\u001b[0;34m=\u001b[0m\u001b[0mbias_constraint\u001b[0m\u001b[0;34m,\u001b[0m\u001b[0;34m\u001b[0m\u001b[0;34m\u001b[0m\u001b[0m\n\u001b[1;32m    313\u001b[0m         \u001b[0mtrainable\u001b[0m\u001b[0;34m=\u001b[0m\u001b[0mtrainable\u001b[0m\u001b[0;34m,\u001b[0m\u001b[0;34m\u001b[0m\u001b[0;34m\u001b[0m\u001b[0m\n\u001b[0;32m--> 314\u001b[0;31m         name=name, **kwargs)\n\u001b[0m\u001b[1;32m    315\u001b[0m \u001b[0;34m\u001b[0m\u001b[0m\n\u001b[1;32m    316\u001b[0m \u001b[0;34m\u001b[0m\u001b[0m\n",
      "\u001b[0;32m~/anaconda3/envs/bgh/lib/python3.6/site-packages/tensorflow/python/keras/layers/convolutional.py\u001b[0m in \u001b[0;36m__init__\u001b[0;34m(self, filters, kernel_size, strides, padding, data_format, dilation_rate, activation, use_bias, kernel_initializer, bias_initializer, kernel_regularizer, bias_regularizer, activity_regularizer, kernel_constraint, bias_constraint, **kwargs)\u001b[0m\n\u001b[1;32m    493\u001b[0m         \u001b[0mkernel_constraint\u001b[0m\u001b[0;34m=\u001b[0m\u001b[0mconstraints\u001b[0m\u001b[0;34m.\u001b[0m\u001b[0mget\u001b[0m\u001b[0;34m(\u001b[0m\u001b[0mkernel_constraint\u001b[0m\u001b[0;34m)\u001b[0m\u001b[0;34m,\u001b[0m\u001b[0;34m\u001b[0m\u001b[0;34m\u001b[0m\u001b[0m\n\u001b[1;32m    494\u001b[0m         \u001b[0mbias_constraint\u001b[0m\u001b[0;34m=\u001b[0m\u001b[0mconstraints\u001b[0m\u001b[0;34m.\u001b[0m\u001b[0mget\u001b[0m\u001b[0;34m(\u001b[0m\u001b[0mbias_constraint\u001b[0m\u001b[0;34m)\u001b[0m\u001b[0;34m,\u001b[0m\u001b[0;34m\u001b[0m\u001b[0;34m\u001b[0m\u001b[0m\n\u001b[0;32m--> 495\u001b[0;31m         **kwargs)\n\u001b[0m\u001b[1;32m    496\u001b[0m \u001b[0;34m\u001b[0m\u001b[0m\n\u001b[1;32m    497\u001b[0m \u001b[0;34m\u001b[0m\u001b[0m\n",
      "\u001b[0;32m~/anaconda3/envs/bgh/lib/python3.6/site-packages/tensorflow/python/keras/layers/convolutional.py\u001b[0m in \u001b[0;36m__init__\u001b[0;34m(self, rank, filters, kernel_size, strides, padding, data_format, dilation_rate, activation, use_bias, kernel_initializer, bias_initializer, kernel_regularizer, bias_regularizer, activity_regularizer, kernel_constraint, bias_constraint, trainable, name, **kwargs)\u001b[0m\n\u001b[1;32m    120\u001b[0m         \u001b[0mname\u001b[0m\u001b[0;34m=\u001b[0m\u001b[0mname\u001b[0m\u001b[0;34m,\u001b[0m\u001b[0;34m\u001b[0m\u001b[0;34m\u001b[0m\u001b[0m\n\u001b[1;32m    121\u001b[0m         \u001b[0mactivity_regularizer\u001b[0m\u001b[0;34m=\u001b[0m\u001b[0mregularizers\u001b[0m\u001b[0;34m.\u001b[0m\u001b[0mget\u001b[0m\u001b[0;34m(\u001b[0m\u001b[0mactivity_regularizer\u001b[0m\u001b[0;34m)\u001b[0m\u001b[0;34m,\u001b[0m\u001b[0;34m\u001b[0m\u001b[0;34m\u001b[0m\u001b[0m\n\u001b[0;32m--> 122\u001b[0;31m         **kwargs)\n\u001b[0m\u001b[1;32m    123\u001b[0m     \u001b[0mself\u001b[0m\u001b[0;34m.\u001b[0m\u001b[0mrank\u001b[0m \u001b[0;34m=\u001b[0m \u001b[0mrank\u001b[0m\u001b[0;34m\u001b[0m\u001b[0;34m\u001b[0m\u001b[0m\n\u001b[1;32m    124\u001b[0m     \u001b[0mself\u001b[0m\u001b[0;34m.\u001b[0m\u001b[0mfilters\u001b[0m \u001b[0;34m=\u001b[0m \u001b[0mfilters\u001b[0m\u001b[0;34m\u001b[0m\u001b[0;34m\u001b[0m\u001b[0m\n",
      "\u001b[0;32m~/anaconda3/envs/bgh/lib/python3.6/site-packages/tensorflow/python/layers/base.py\u001b[0m in \u001b[0;36m__init__\u001b[0;34m(self, trainable, name, dtype, **kwargs)\u001b[0m\n\u001b[1;32m    199\u001b[0m \u001b[0;34m\u001b[0m\u001b[0m\n\u001b[1;32m    200\u001b[0m     super(Layer, self).__init__(trainable=trainable, name=name, dtype=dtype,\n\u001b[0;32m--> 201\u001b[0;31m                                 **kwargs)\n\u001b[0m\u001b[1;32m    202\u001b[0m \u001b[0;34m\u001b[0m\u001b[0m\n\u001b[1;32m    203\u001b[0m     \u001b[0;32mif\u001b[0m \u001b[0m_is_in_keras_style_scope\u001b[0m\u001b[0;34m(\u001b[0m\u001b[0;34m)\u001b[0m\u001b[0;34m:\u001b[0m\u001b[0;34m\u001b[0m\u001b[0;34m\u001b[0m\u001b[0m\n",
      "\u001b[0;32m~/anaconda3/envs/bgh/lib/python3.6/site-packages/tensorflow/python/training/checkpointable/base.py\u001b[0m in \u001b[0;36m_method_wrapper\u001b[0;34m(self, *args, **kwargs)\u001b[0m\n\u001b[1;32m    440\u001b[0m     \u001b[0mself\u001b[0m\u001b[0;34m.\u001b[0m\u001b[0m_setattr_tracking\u001b[0m \u001b[0;34m=\u001b[0m \u001b[0;32mFalse\u001b[0m  \u001b[0;31m# pylint: disable=protected-access\u001b[0m\u001b[0;34m\u001b[0m\u001b[0;34m\u001b[0m\u001b[0m\n\u001b[1;32m    441\u001b[0m     \u001b[0;32mtry\u001b[0m\u001b[0;34m:\u001b[0m\u001b[0;34m\u001b[0m\u001b[0;34m\u001b[0m\u001b[0m\n\u001b[0;32m--> 442\u001b[0;31m       \u001b[0mmethod\u001b[0m\u001b[0;34m(\u001b[0m\u001b[0mself\u001b[0m\u001b[0;34m,\u001b[0m \u001b[0;34m*\u001b[0m\u001b[0margs\u001b[0m\u001b[0;34m,\u001b[0m \u001b[0;34m**\u001b[0m\u001b[0mkwargs\u001b[0m\u001b[0;34m)\u001b[0m\u001b[0;34m\u001b[0m\u001b[0;34m\u001b[0m\u001b[0m\n\u001b[0m\u001b[1;32m    443\u001b[0m     \u001b[0;32mfinally\u001b[0m\u001b[0;34m:\u001b[0m\u001b[0;34m\u001b[0m\u001b[0;34m\u001b[0m\u001b[0m\n\u001b[1;32m    444\u001b[0m       \u001b[0mself\u001b[0m\u001b[0;34m.\u001b[0m\u001b[0m_setattr_tracking\u001b[0m \u001b[0;34m=\u001b[0m \u001b[0mprevious_value\u001b[0m  \u001b[0;31m# pylint: disable=protected-access\u001b[0m\u001b[0;34m\u001b[0m\u001b[0;34m\u001b[0m\u001b[0m\n",
      "\u001b[0;32m~/anaconda3/envs/bgh/lib/python3.6/site-packages/tensorflow/python/keras/engine/base_layer.py\u001b[0m in \u001b[0;36m__init__\u001b[0;34m(self, trainable, name, dtype, **kwargs)\u001b[0m\n\u001b[1;32m    120\u001b[0m     \u001b[0;32mfor\u001b[0m \u001b[0mkwarg\u001b[0m \u001b[0;32min\u001b[0m \u001b[0mkwargs\u001b[0m\u001b[0;34m:\u001b[0m\u001b[0;34m\u001b[0m\u001b[0;34m\u001b[0m\u001b[0m\n\u001b[1;32m    121\u001b[0m       \u001b[0;32mif\u001b[0m \u001b[0mkwarg\u001b[0m \u001b[0;32mnot\u001b[0m \u001b[0;32min\u001b[0m \u001b[0mallowed_kwargs\u001b[0m\u001b[0;34m:\u001b[0m\u001b[0;34m\u001b[0m\u001b[0;34m\u001b[0m\u001b[0m\n\u001b[0;32m--> 122\u001b[0;31m         \u001b[0;32mraise\u001b[0m \u001b[0mTypeError\u001b[0m\u001b[0;34m(\u001b[0m\u001b[0;34m'Keyword argument not understood:'\u001b[0m\u001b[0;34m,\u001b[0m \u001b[0mkwarg\u001b[0m\u001b[0;34m)\u001b[0m\u001b[0;34m\u001b[0m\u001b[0;34m\u001b[0m\u001b[0m\n\u001b[0m\u001b[1;32m    123\u001b[0m \u001b[0;34m\u001b[0m\u001b[0m\n\u001b[1;32m    124\u001b[0m     \u001b[0;31m# Mutable properties\u001b[0m\u001b[0;34m\u001b[0m\u001b[0;34m\u001b[0m\u001b[0;34m\u001b[0m\u001b[0m\n",
      "\u001b[0;31mTypeError\u001b[0m: ('Keyword argument not understood:', 'stride')"
     ]
    }
   ],
   "source": [
    "network = Network(3, 7, 'criterion')"
   ]
  },
  {
   "cell_type": "code",
   "execution_count": null,
   "metadata": {},
   "outputs": [],
   "source": [
    "network"
   ]
  },
  {
   "cell_type": "markdown",
   "metadata": {},
   "source": [
=======
>>>>>>> aa228ba1a50cc742532a818961f7702f16a6a762
    "# Testing Here!"
   ]
  },
  {
   "cell_type": "code",
   "execution_count": 18,
   "metadata": {},
   "outputs": [],
   "source": [
    "import numpy as np"
   ]
  },
  {
   "cell_type": "markdown",
   "metadata": {},
   "source": [
    "## Mixed Op"
   ]
  },
  {
   "cell_type": "code",
   "execution_count": 14,
   "metadata": {},
   "outputs": [],
   "source": [
    "mix_op = MixedOp(3, stride=1)"
   ]
  },
  {
   "cell_type": "code",
   "execution_count": 15,
   "metadata": {},
   "outputs": [],
   "source": [
    "weights = np.random.rand(8).astype(np.float32)\n",
    "features = np.random.rand(2, 16, 16, 3).astype(np.float32)\n",
    "\n",
    "init = tf.global_variables_initializer()\n",
    "\n",
    "out = mix_op(features, weights)"
   ]
  },
  {
   "cell_type": "markdown",
   "metadata": {},
   "source": [
    "## Cell"
   ]
  },
  {
   "cell_type": "code",
   "execution_count": 28,
   "metadata": {},
   "outputs": [],
   "source": [
    "cell = Cell(steps=4,\n",
    "            multiplier=4,\n",
    "            C_prev_prev=3,\n",
    "            C_prev=3,\n",
    "            C=3,\n",
    "            reduction=False,\n",
    "            reduction_prev=False,\n",
    "            upsample_prev=False)"
   ]
  },
  {
   "cell_type": "code",
   "execution_count": 29,
   "metadata": {},
   "outputs": [],
   "source": [
    "weights = np.random.rand(20,8).astype(np.float32)\n",
    "s0 = np.random.rand(2, 16, 16, 3).astype(np.float32)\n",
    "s1 = np.random.rand(2, 16, 16, 3).astype(np.float32)\n",
    "\n",
    "init = tf.global_variables_initializer()\n",
    "\n",
    "cell_out = cell(s0, s1, weights)"
   ]
  },
  {
   "cell_type": "code",
   "execution_count": 64,
   "metadata": {},
   "outputs": [
    {
     "data": {
      "text/plain": [
       "<tf.Tensor: id=19595, shape=(2, 16, 16, 12), dtype=float32, numpy=\n",
       "array([[[[ 2.93277740e-01,  3.70745122e-01, -1.72512233e+00, ...,\n",
       "           1.45150595e+01,  2.86261249e+00, -3.00602646e+01],\n",
       "         [ 8.28171372e-01,  1.04232430e-01, -2.16330767e+00, ...,\n",
       "           1.92330151e+01,  3.26445699e+00, -3.17617378e+01],\n",
       "         [ 4.55932438e-01,  3.24671268e-01, -2.14074540e+00, ...,\n",
       "           1.98708782e+01,  5.64134598e+00, -3.53672256e+01],\n",
       "         ...,\n",
       "         [ 6.12200320e-01,  4.10735875e-01, -1.53144383e+00, ...,\n",
       "           1.72971992e+01,  1.22889242e+01, -2.78178692e+01],\n",
       "         [ 5.38796425e-01,  1.20052636e+00, -1.80590248e+00, ...,\n",
       "           2.06240501e+01,  1.85452003e+01, -2.80146599e+01],\n",
       "         [ 1.00400150e+00,  6.75948083e-01, -1.45401239e+00, ...,\n",
       "           1.72088242e+01,  1.74706554e+01, -2.67610245e+01]],\n",
       "\n",
       "        [[ 9.01013434e-01, -6.01917505e-03, -1.73098969e+00, ...,\n",
       "           1.17313004e+01,  1.19624436e+00, -2.63161163e+01],\n",
       "         [ 4.70049590e-01,  6.08080864e-01, -1.75810730e+00, ...,\n",
       "           1.16722889e+01,  6.54774284e+00, -2.42178421e+01],\n",
       "         [ 4.06573862e-01,  8.29105973e-02, -2.23965955e+00, ...,\n",
       "           1.16481400e+01,  6.40641212e+00, -2.93204899e+01],\n",
       "         ...,\n",
       "         [ 2.83603311e-01,  8.43174636e-01, -1.72012591e+00, ...,\n",
       "           9.26830292e+00,  1.75753517e+01, -1.95470314e+01],\n",
       "         [ 9.92510438e-01,  7.10775137e-01, -1.85108626e+00, ...,\n",
       "           1.35574884e+01,  1.91654873e+01, -2.17164650e+01],\n",
       "         [ 9.41421270e-01,  7.77561903e-01, -1.82260656e+00, ...,\n",
       "           1.45666294e+01,  1.98557434e+01, -2.46735783e+01]],\n",
       "\n",
       "        [[ 7.47011602e-01,  2.94752359e-01, -1.94558501e+00, ...,\n",
       "           1.35221653e+01,  9.39270020e-01, -2.56147385e+01],\n",
       "         [ 8.08507800e-01,  6.43670559e-01, -1.62171507e+00, ...,\n",
       "           1.21090279e+01,  8.13940811e+00, -2.29911880e+01],\n",
       "         [ 1.73513606e-01,  7.53240168e-01, -1.84937882e+00, ...,\n",
       "           8.13501835e+00,  1.40075922e+01, -2.47298126e+01],\n",
       "         ...,\n",
       "         [-1.11511379e-01,  1.20035803e+00, -1.97412527e+00, ...,\n",
       "           7.64414740e+00,  1.35369320e+01, -2.03331661e+01],\n",
       "         [ 4.36727345e-01,  9.47432578e-01, -1.92356324e+00, ...,\n",
       "           1.10585546e+01,  2.01301422e+01, -2.20643177e+01],\n",
       "         [ 4.76692766e-01,  2.59697735e-01, -1.95478106e+00, ...,\n",
       "           1.21683598e+01,  1.58045959e+01, -2.67369270e+01]],\n",
       "\n",
       "        ...,\n",
       "\n",
       "        [[ 3.67941380e-01,  6.10853434e-02, -1.86956048e+00, ...,\n",
       "           1.02362661e+01,  4.00785065e+00, -2.34968891e+01],\n",
       "         [ 5.55435002e-01, -1.25205427e-01, -1.56898725e+00, ...,\n",
       "           9.51014519e+00,  6.13764620e+00, -2.15638885e+01],\n",
       "         [ 4.24012005e-01,  6.64907038e-01, -1.88002110e+00, ...,\n",
       "           8.99916649e+00,  7.85239220e+00, -2.05385361e+01],\n",
       "         ...,\n",
       "         [-1.68644786e-02,  9.07110751e-01, -2.75907850e+00, ...,\n",
       "           1.25946808e+01,  1.63687954e+01, -2.43142433e+01],\n",
       "         [ 7.72961825e-02,  8.17577899e-01, -2.55668616e+00, ...,\n",
       "           1.33356533e+01,  2.24223022e+01, -2.75212498e+01],\n",
       "         [ 1.90467507e-01,  5.22401571e-01, -2.12477565e+00, ...,\n",
       "           1.17559433e+01,  1.88195705e+01, -2.70758438e+01]],\n",
       "\n",
       "        [[ 4.78303730e-01, -9.08835232e-02, -1.51888013e+00, ...,\n",
       "           1.26612473e+01,  3.92588687e+00, -2.47417030e+01],\n",
       "         [ 8.00030053e-01,  3.43120128e-01, -1.73186278e+00, ...,\n",
       "           1.11635885e+01,  7.44351578e+00, -2.30418758e+01],\n",
       "         [ 7.44184315e-01,  8.70842218e-01, -1.35114694e+00, ...,\n",
       "           1.00662842e+01,  9.05927944e+00, -1.62473927e+01],\n",
       "         ...,\n",
       "         [ 8.74994814e-01,  1.23025727e+00, -1.42903793e+00, ...,\n",
       "           1.31629372e+01,  1.47053156e+01, -1.94044895e+01],\n",
       "         [ 5.78715920e-01,  6.80147529e-01, -2.04894018e+00, ...,\n",
       "           1.42170544e+01,  1.69480133e+01, -2.24403572e+01],\n",
       "         [ 3.05539459e-01,  9.29464340e-01, -1.90630043e+00, ...,\n",
       "           1.34609737e+01,  1.64310379e+01, -2.31431408e+01]],\n",
       "\n",
       "        [[ 7.90047526e-01,  2.38135755e-02, -1.47855425e+00, ...,\n",
       "           1.48354635e+01,  4.31036186e+00, -2.46667404e+01],\n",
       "         [ 1.09292853e+00,  4.10539001e-01, -1.79838085e+00, ...,\n",
       "           1.37942009e+01,  7.40038109e+00, -2.15883980e+01],\n",
       "         [ 4.90381956e-01,  5.03617883e-01, -1.93242216e+00, ...,\n",
       "           9.81939316e+00,  9.75610924e+00, -1.78715744e+01],\n",
       "         ...,\n",
       "         [ 5.28915226e-01,  1.12286210e+00, -2.06536818e+00, ...,\n",
       "           1.23028831e+01,  1.58931885e+01, -1.87951241e+01],\n",
       "         [ 2.90529609e-01,  5.12104988e-01, -2.01382041e+00, ...,\n",
       "           1.51806126e+01,  1.72221088e+01, -2.26832314e+01],\n",
       "         [ 4.91578639e-01,  6.65330708e-01, -1.83062124e+00, ...,\n",
       "           1.56030407e+01,  1.42551231e+01, -2.40991573e+01]]],\n",
       "\n",
       "\n",
       "       [[[-1.26740009e-01, -3.45653296e-03, -1.50349152e+00, ...,\n",
       "           5.74328279e+00,  3.11358213e+00, -2.30193634e+01],\n",
       "         [ 2.43990973e-01, -3.01212311e-01, -1.83427107e+00, ...,\n",
       "           9.27555084e+00,  2.16825247e+00, -2.50619011e+01],\n",
       "         [ 2.81675160e-01, -1.07429624e-01, -2.11914873e+00, ...,\n",
       "           1.21422844e+01,  1.68760085e+00, -2.80711517e+01],\n",
       "         ...,\n",
       "         [ 2.19092816e-01,  3.78244936e-01, -1.46986389e+00, ...,\n",
       "           1.54116859e+01,  9.08202744e+00, -2.86518898e+01],\n",
       "         [ 8.36187780e-01,  6.61037207e-01, -1.84214032e+00, ...,\n",
       "           2.01787910e+01,  1.45996380e+01, -2.94182987e+01],\n",
       "         [ 1.02481723e+00,  3.13249052e-01, -1.66925621e+00, ...,\n",
       "           1.67045269e+01,  1.35042028e+01, -2.72605591e+01]],\n",
       "\n",
       "        [[ 3.15469980e-01,  4.31792438e-01, -1.79772949e+00, ...,\n",
       "           5.10062885e+00,  2.70318413e+00, -2.20110054e+01],\n",
       "         [-1.34108409e-01,  3.97805631e-01, -1.31634688e+00, ...,\n",
       "           5.21612835e+00,  4.59924650e+00, -2.05396843e+01],\n",
       "         [-1.82939693e-01,  4.29153532e-01, -1.61252403e+00, ...,\n",
       "           8.35902119e+00,  3.78222084e+00, -2.40329189e+01],\n",
       "         ...,\n",
       "         [ 9.41010892e-01,  7.98799038e-01, -2.05777478e+00, ...,\n",
       "           1.18352280e+01,  1.35234146e+01, -2.41520634e+01],\n",
       "         [ 7.90097535e-01,  8.34266067e-01, -1.88056028e+00, ...,\n",
       "           1.33471260e+01,  1.49423037e+01, -2.27754440e+01],\n",
       "         [ 1.06082606e+00,  4.57879484e-01, -1.68879509e+00, ...,\n",
       "           1.33808041e+01,  1.31894741e+01, -2.41044121e+01]],\n",
       "\n",
       "        [[-1.30896389e-01,  6.18400216e-01, -1.49016988e+00, ...,\n",
       "           7.00683641e+00,  8.56840253e-01, -2.24763870e+01],\n",
       "         [ 1.37465745e-01, -1.71576738e-02, -1.40816605e+00, ...,\n",
       "           8.57077122e+00,  4.69749069e+00, -2.16742058e+01],\n",
       "         [ 2.21188635e-01,  5.29483557e-01, -1.57168388e+00, ...,\n",
       "           9.65821648e+00,  5.36400700e+00, -2.41876335e+01],\n",
       "         ...,\n",
       "         [ 8.11848044e-02,  4.75882173e-01, -2.22426128e+00, ...,\n",
       "           7.37999296e+00,  1.07971916e+01, -2.63481522e+01],\n",
       "         [ 6.10163927e-01,  8.53538573e-01, -2.26761055e+00, ...,\n",
       "           1.19537678e+01,  1.48665419e+01, -2.68346329e+01],\n",
       "         [ 3.43682706e-01,  4.93097723e-01, -2.33191895e+00, ...,\n",
       "           1.05507126e+01,  1.21814995e+01, -2.83716564e+01]],\n",
       "\n",
       "        ...,\n",
       "\n",
       "        [[ 5.19572139e-01,  1.15859509e+00, -2.12580609e+00, ...,\n",
       "           1.46558323e+01,  1.18416586e+01, -2.71652985e+01],\n",
       "         [ 6.27164960e-01,  1.11412930e+00, -1.71713710e+00, ...,\n",
       "           1.44075947e+01,  1.62588844e+01, -2.34670830e+01],\n",
       "         [-2.50411302e-01,  9.72248435e-01, -2.36379051e+00, ...,\n",
       "           8.32109833e+00,  1.54876823e+01, -2.17380886e+01],\n",
       "         ...,\n",
       "         [-1.58476382e-01,  1.09706044e+00, -1.94088364e+00, ...,\n",
       "           9.85784245e+00,  1.79218693e+01, -1.99259129e+01],\n",
       "         [ 6.17133021e-01,  7.68665612e-01, -2.13885236e+00, ...,\n",
       "           1.76780605e+01,  2.31634140e+01, -2.79388618e+01],\n",
       "         [ 4.03754413e-01,  7.44221687e-01, -1.88172936e+00, ...,\n",
       "           1.41097317e+01,  2.12091446e+01, -2.55518608e+01]],\n",
       "\n",
       "        [[ 7.40694165e-01,  1.06090236e+00, -1.41047442e+00, ...,\n",
       "           1.23014469e+01,  1.72979240e+01, -1.99338646e+01],\n",
       "         [ 7.48845458e-01,  7.96342134e-01, -1.38865638e+00, ...,\n",
       "           1.05265236e+01,  1.81943512e+01, -1.66882286e+01],\n",
       "         [ 2.08842278e-01,  1.07059455e+00, -1.67201495e+00, ...,\n",
       "           7.82414007e+00,  1.67152939e+01, -1.26123323e+01],\n",
       "         ...,\n",
       "         [ 3.98596078e-01,  8.00285041e-01, -1.56990576e+00, ...,\n",
       "           1.79352245e+01,  1.47796154e+01, -1.97541733e+01],\n",
       "         [ 6.20713115e-01,  1.00932539e+00, -1.88235176e+00, ...,\n",
       "           2.03335609e+01,  1.81866188e+01, -2.24113617e+01],\n",
       "         [ 9.96713042e-02,  8.40961039e-01, -1.75369215e+00, ...,\n",
       "           1.62803516e+01,  1.77776127e+01, -2.33590107e+01]],\n",
       "\n",
       "        [[ 6.12130523e-01,  1.20910704e+00, -1.25096095e+00, ...,\n",
       "           1.24681339e+01,  1.81562748e+01, -1.57568579e+01],\n",
       "         [ 5.55743098e-01,  1.37136757e+00, -7.77582109e-01, ...,\n",
       "           1.09314947e+01,  1.96414127e+01, -1.22675076e+01],\n",
       "         [ 2.46881589e-01,  1.47511792e+00, -1.34914327e+00, ...,\n",
       "           8.47028732e+00,  1.90692787e+01, -9.89885712e+00],\n",
       "         ...,\n",
       "         [ 9.93773937e-01,  7.54874289e-01, -1.67065597e+00, ...,\n",
       "           1.93573647e+01,  1.24084625e+01, -1.83988228e+01],\n",
       "         [ 7.65145898e-01,  8.93390059e-01, -1.79086995e+00, ...,\n",
       "           1.80382500e+01,  1.61407776e+01, -2.04016018e+01],\n",
       "         [ 7.67742634e-01,  7.27515578e-01, -1.98418593e+00, ...,\n",
       "           1.72920513e+01,  1.67455025e+01, -2.48838158e+01]]]],\n",
       "      dtype=float32)>"
      ]
     },
     "execution_count": 64,
     "metadata": {},
     "output_type": "execute_result"
    }
   ],
   "source": [
    "cell_out"
   ]
  },
  {
   "cell_type": "markdown",
   "metadata": {},
   "source": [
    "## Upsample Cell"
   ]
  },
  {
   "cell_type": "code",
   "execution_count": 60,
   "metadata": {},
   "outputs": [],
   "source": [
    "up_cell = UpsampleCell(4, 4, 3, 3, 3)"
   ]
  },
  {
   "cell_type": "code",
   "execution_count": 61,
   "metadata": {},
   "outputs": [],
   "source": [
    "s0 = np.random.rand(2, 16, 16, 3).astype(np.float32)\n",
    "s1 = np.random.rand(2, 16, 16, 3).astype(np.float32)\n",
    "\n",
    "init = tf.global_variables_initializer()\n",
    "\n",
    "up_cell_out = up_cell(s0, s1)"
   ]
  },
  {
   "cell_type": "markdown",
   "metadata": {},
   "source": [
<<<<<<< HEAD
=======
    "## Network"
   ]
  },
  {
   "cell_type": "code",
   "execution_count": null,
   "metadata": {},
   "outputs": [],
   "source": []
  },
  {
   "cell_type": "markdown",
   "metadata": {},
   "source": [
>>>>>>> aa228ba1a50cc742532a818961f7702f16a6a762
    "## Extra Test"
   ]
  },
  {
   "cell_type": "code",
   "execution_count": 72,
   "metadata": {},
   "outputs": [
    {
     "ename": "TypeError",
     "evalue": "The added layer must be an instance of class Layer. Found: <function softmax at 0x7f1a39eae950>",
     "output_type": "error",
     "traceback": [
      "\u001b[0;31m---------------------------------------------------------------------------\u001b[0m",
      "\u001b[0;31mTypeError\u001b[0m                                 Traceback (most recent call last)",
      "\u001b[0;32m<ipython-input-72-c1fa11024dd4>\u001b[0m in \u001b[0;36m<module>\u001b[0;34m\u001b[0m\n\u001b[1;32m      2\u001b[0m \u001b[0mconv\u001b[0m \u001b[0;34m=\u001b[0m \u001b[0mtf\u001b[0m\u001b[0;34m.\u001b[0m\u001b[0mkeras\u001b[0m\u001b[0;34m.\u001b[0m\u001b[0mSequential\u001b[0m\u001b[0;34m(\u001b[0m\u001b[0;34m)\u001b[0m\u001b[0;34m\u001b[0m\u001b[0;34m\u001b[0m\u001b[0m\n\u001b[1;32m      3\u001b[0m \u001b[0mconv\u001b[0m\u001b[0;34m.\u001b[0m\u001b[0madd\u001b[0m\u001b[0;34m(\u001b[0m\u001b[0mReLUConvBN\u001b[0m\u001b[0;34m(\u001b[0m\u001b[0;36m6\u001b[0m\u001b[0;34m,\u001b[0m \u001b[0;36m6\u001b[0m\u001b[0;34m,\u001b[0m \u001b[0;36m1\u001b[0m\u001b[0;34m,\u001b[0m \u001b[0;36m1\u001b[0m\u001b[0;34m,\u001b[0m \u001b[0;34m'same'\u001b[0m\u001b[0;34m)\u001b[0m\u001b[0;34m)\u001b[0m\u001b[0;34m\u001b[0m\u001b[0;34m\u001b[0m\u001b[0m\n\u001b[0;32m----> 4\u001b[0;31m \u001b[0mconv\u001b[0m\u001b[0;34m.\u001b[0m\u001b[0madd\u001b[0m\u001b[0;34m(\u001b[0m\u001b[0mtf\u001b[0m\u001b[0;34m.\u001b[0m\u001b[0mnn\u001b[0m\u001b[0;34m.\u001b[0m\u001b[0msoftmax\u001b[0m\u001b[0;34m)\u001b[0m\u001b[0;34m\u001b[0m\u001b[0;34m\u001b[0m\u001b[0m\n\u001b[0m\u001b[1;32m      5\u001b[0m \u001b[0mconv\u001b[0m\u001b[0;34m(\u001b[0m\u001b[0ms0\u001b[0m\u001b[0;34m)\u001b[0m\u001b[0;34m\u001b[0m\u001b[0;34m\u001b[0m\u001b[0m\n",
      "\u001b[0;32m~/anaconda3/envs/bgh/lib/python3.6/site-packages/tensorflow/python/training/checkpointable/base.py\u001b[0m in \u001b[0;36m_method_wrapper\u001b[0;34m(self, *args, **kwargs)\u001b[0m\n\u001b[1;32m    440\u001b[0m     \u001b[0mself\u001b[0m\u001b[0;34m.\u001b[0m\u001b[0m_setattr_tracking\u001b[0m \u001b[0;34m=\u001b[0m \u001b[0;32mFalse\u001b[0m  \u001b[0;31m# pylint: disable=protected-access\u001b[0m\u001b[0;34m\u001b[0m\u001b[0;34m\u001b[0m\u001b[0m\n\u001b[1;32m    441\u001b[0m     \u001b[0;32mtry\u001b[0m\u001b[0;34m:\u001b[0m\u001b[0;34m\u001b[0m\u001b[0;34m\u001b[0m\u001b[0m\n\u001b[0;32m--> 442\u001b[0;31m       \u001b[0mmethod\u001b[0m\u001b[0;34m(\u001b[0m\u001b[0mself\u001b[0m\u001b[0;34m,\u001b[0m \u001b[0;34m*\u001b[0m\u001b[0margs\u001b[0m\u001b[0;34m,\u001b[0m \u001b[0;34m**\u001b[0m\u001b[0mkwargs\u001b[0m\u001b[0;34m)\u001b[0m\u001b[0;34m\u001b[0m\u001b[0;34m\u001b[0m\u001b[0m\n\u001b[0m\u001b[1;32m    443\u001b[0m     \u001b[0;32mfinally\u001b[0m\u001b[0;34m:\u001b[0m\u001b[0;34m\u001b[0m\u001b[0;34m\u001b[0m\u001b[0m\n\u001b[1;32m    444\u001b[0m       \u001b[0mself\u001b[0m\u001b[0;34m.\u001b[0m\u001b[0m_setattr_tracking\u001b[0m \u001b[0;34m=\u001b[0m \u001b[0mprevious_value\u001b[0m  \u001b[0;31m# pylint: disable=protected-access\u001b[0m\u001b[0;34m\u001b[0m\u001b[0;34m\u001b[0m\u001b[0m\n",
      "\u001b[0;32m~/anaconda3/envs/bgh/lib/python3.6/site-packages/tensorflow/python/keras/engine/sequential.py\u001b[0m in \u001b[0;36madd\u001b[0;34m(self, layer)\u001b[0m\n\u001b[1;32m    143\u001b[0m       raise TypeError('The added layer must be '\n\u001b[1;32m    144\u001b[0m                       \u001b[0;34m'an instance of class Layer. '\u001b[0m\u001b[0;34m\u001b[0m\u001b[0;34m\u001b[0m\u001b[0m\n\u001b[0;32m--> 145\u001b[0;31m                       'Found: ' + str(layer))\n\u001b[0m\u001b[1;32m    146\u001b[0m     \u001b[0mself\u001b[0m\u001b[0;34m.\u001b[0m\u001b[0mbuilt\u001b[0m \u001b[0;34m=\u001b[0m \u001b[0;32mFalse\u001b[0m\u001b[0;34m\u001b[0m\u001b[0;34m\u001b[0m\u001b[0m\n\u001b[1;32m    147\u001b[0m     \u001b[0mset_inputs\u001b[0m \u001b[0;34m=\u001b[0m \u001b[0;32mFalse\u001b[0m\u001b[0;34m\u001b[0m\u001b[0;34m\u001b[0m\u001b[0m\n",
      "\u001b[0;31mTypeError\u001b[0m: The added layer must be an instance of class Layer. Found: <function softmax at 0x7f1a39eae950>"
     ]
    }
   ],
   "source": [
    "s0 = np.random.rand(2, 16, 16, 6).astype(np.float32)\n",
    "conv = tf.keras.Sequential()\n",
    "conv.add(ReLUConvBN(6, 6, 1, 1, 'same'))\n",
    "conv.add(FactorizedReduce(6,6))\n",
    "conv(s0)"
   ]
  },
  {
   "cell_type": "code",
   "execution_count": null,
   "metadata": {},
   "outputs": [],
<<<<<<< HEAD
   "source": [
    "class abc"
   ]
=======
   "source": []
>>>>>>> aa228ba1a50cc742532a818961f7702f16a6a762
  }
 ],
 "metadata": {
  "kernelspec": {
   "display_name": "Python (bgh)",
   "language": "python",
   "name": "bgh"
  },
  "language_info": {
   "codemirror_mode": {
    "name": "ipython",
    "version": 3
   },
   "file_extension": ".py",
   "mimetype": "text/x-python",
   "name": "python",
   "nbconvert_exporter": "python",
   "pygments_lexer": "ipython3",
   "version": "3.6.7"
  }
 },
 "nbformat": 4,
 "nbformat_minor": 2
}
