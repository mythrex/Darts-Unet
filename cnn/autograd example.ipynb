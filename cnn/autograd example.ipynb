{
 "cells": [
  {
   "cell_type": "code",
   "execution_count": 1,
   "metadata": {},
   "outputs": [],
   "source": [
    "import torch \n",
    "import torch.nn as nn\n",
    "import numpy as np "
   ]
  },
  {
   "cell_type": "code",
   "execution_count": 24,
   "metadata": {},
   "outputs": [],
   "source": [
    "x = torch.rand((16,10), requires_grad=True)\n",
    "net = nn.Sequential(nn.Linear(10,10))\n",
    "labels = torch.tensor(np.random.choice(10, size=16)).long()\n",
    "criterion = nn.CrossEntropyLoss()"
   ]
  },
  {
   "cell_type": "code",
   "execution_count": 25,
   "metadata": {},
   "outputs": [],
   "source": [
    "loss = criterion(net(x), labels)\n",
    "loss.backward(retain_graph=True)\n",
    "dloss_dx = x.grad"
   ]
  },
  {
   "cell_type": "code",
   "execution_count": 26,
   "metadata": {},
   "outputs": [],
   "source": [
    "dloss_dx2 = torch.autograd.grad(loss, x)"
   ]
  },
  {
   "cell_type": "code",
   "execution_count": 30,
   "metadata": {},
   "outputs": [
    {
     "data": {
      "text/plain": [
       "tensor([[True, True, True, True, True, True, True, True, True, True],\n",
       "        [True, True, True, True, True, True, True, True, True, True],\n",
       "        [True, True, True, True, True, True, True, True, True, True],\n",
       "        [True, True, True, True, True, True, True, True, True, True],\n",
       "        [True, True, True, True, True, True, True, True, True, True],\n",
       "        [True, True, True, True, True, True, True, True, True, True],\n",
       "        [True, True, True, True, True, True, True, True, True, True],\n",
       "        [True, True, True, True, True, True, True, True, True, True],\n",
       "        [True, True, True, True, True, True, True, True, True, True],\n",
       "        [True, True, True, True, True, True, True, True, True, True],\n",
       "        [True, True, True, True, True, True, True, True, True, True],\n",
       "        [True, True, True, True, True, True, True, True, True, True],\n",
       "        [True, True, True, True, True, True, True, True, True, True],\n",
       "        [True, True, True, True, True, True, True, True, True, True],\n",
       "        [True, True, True, True, True, True, True, True, True, True],\n",
       "        [True, True, True, True, True, True, True, True, True, True]])"
      ]
     },
     "execution_count": 30,
     "metadata": {},
     "output_type": "execute_result"
    }
   ],
   "source": [
    "dloss_dx2[0] == dloss_dx"
   ]
  },
  {
   "cell_type": "code",
   "execution_count": 40,
   "metadata": {},
   "outputs": [],
   "source": [
    "opt = torch.optim.Adam(net.parameters(),lr=0.01, betas=(0.5, 0.999), weight_decay=0.2)"
   ]
  },
  {
   "cell_type": "code",
   "execution_count": 75,
   "metadata": {},
   "outputs": [],
   "source": [
    "torch.manual_seed(0)\n",
    "for v in net.parameters():\n",
    "    try:\n",
    "        moment = opt.state[v]['momentum_buffer']\n",
    "        print(\"Hello\")\n",
    "    except:\n",
    "        moment = torch.randn(10, 10)"
   ]
  },
  {
   "cell_type": "code",
   "execution_count": 76,
   "metadata": {},
   "outputs": [
    {
     "data": {
      "text/plain": [
       "tensor([[ 0.9625,  0.3492, -0.9215, -0.0562, -0.7015,  1.0367, -0.6037, -1.2788,\n",
       "          0.1239,  1.1648],\n",
       "        [ 0.9234,  1.3873,  1.3750,  0.6596,  0.4766, -1.0163,  0.6104,  0.4669,\n",
       "          1.9507, -1.0631],\n",
       "        [ 1.1404, -0.0899,  0.7298, -1.8453, -0.1021, -1.0335, -0.3126,  0.2458,\n",
       "          0.3772,  1.1012],\n",
       "        [-1.1428,  0.0376,  0.2886,  0.3866, -0.2011, -0.1179, -0.8294, -1.4073,\n",
       "          1.6268,  0.1723],\n",
       "        [-0.7043,  0.3147,  0.1574,  0.3854,  0.5737,  0.9979,  0.5436,  0.0788,\n",
       "          0.9985, -0.4987],\n",
       "        [ 0.7611,  0.6183, -0.2994, -0.1878,  1.9159,  0.6902, -0.3140, -1.0787,\n",
       "          0.2408, -1.3962],\n",
       "        [ 0.1136,  1.1047, -1.3952,  0.4751,  1.0811,  0.1315,  1.5735,  0.7814,\n",
       "          0.9874, -1.4878],\n",
       "        [ 0.5867,  0.1583,  0.6668, -0.9944, -1.1894, -1.1959,  1.3119, -0.2098,\n",
       "          0.7817,  0.9897],\n",
       "        [ 0.1715,  0.8760, -0.2871,  1.0216,  0.4386, -0.0107,  1.3384, -0.2794,\n",
       "         -0.5518, -2.8891],\n",
       "        [-1.5100,  1.0241,  0.1954, -0.7371,  1.7001,  0.3462,  0.9711,  1.4503,\n",
       "         -0.0519, -0.6284]])"
      ]
     },
     "execution_count": 76,
     "metadata": {},
     "output_type": "execute_result"
    }
   ],
   "source": [
    "moment"
   ]
  },
  {
   "cell_type": "code",
   "execution_count": 77,
   "metadata": {},
   "outputs": [],
   "source": [
    "opt.step()"
   ]
  },
  {
   "cell_type": "code",
   "execution_count": null,
   "metadata": {},
   "outputs": [],
   "source": []
  }
 ],
 "metadata": {
  "kernelspec": {
   "display_name": "Python (dl)",
   "language": "python",
   "name": "dl"
  },
  "language_info": {
   "codemirror_mode": {
    "name": "ipython",
    "version": 3
   },
   "file_extension": ".py",
   "mimetype": "text/x-python",
   "name": "python",
   "nbconvert_exporter": "python",
   "pygments_lexer": "ipython3",
   "version": "3.7.4"
  }
 },
 "nbformat": 4,
 "nbformat_minor": 4
}
